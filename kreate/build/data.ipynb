{
 "cells": [
  {
   "cell_type": "code",
   "execution_count": 1,
   "metadata": {},
   "outputs": [],
   "source": [
    "import pandas as pd"
   ]
  },
  {
   "cell_type": "code",
   "execution_count": 8,
   "metadata": {},
   "outputs": [
    {
     "name": "stdout",
     "output_type": "stream",
     "text": [
      "<class 'pandas.core.frame.DataFrame'>\n",
      "RangeIndex: 29 entries, 0 to 28\n",
      "Data columns (total 5 columns):\n",
      " #   Column      Non-Null Count  Dtype  \n",
      "---  ------      --------------  -----  \n",
      " 0   Nama        25 non-null     object \n",
      " 1   Bahan       25 non-null     object \n",
      " 2   Step        26 non-null     object \n",
      " 3   Unnamed: 3  0 non-null      float64\n",
      " 4   Unnamed: 4  5 non-null      object \n",
      "dtypes: float64(1), object(4)\n",
      "memory usage: 1.3+ KB\n"
     ]
    }
   ],
   "source": [
    "df = pd.read_csv('D:\\kb\\DatasetSAMPAH.csv')\n",
    "df.head()\n",
    "df.info()"
   ]
  },
  {
   "cell_type": "code",
   "execution_count": 10,
   "metadata": {},
   "outputs": [
    {
     "data": {
      "text/html": [
       "<div>\n",
       "<style scoped>\n",
       "    .dataframe tbody tr th:only-of-type {\n",
       "        vertical-align: middle;\n",
       "    }\n",
       "\n",
       "    .dataframe tbody tr th {\n",
       "        vertical-align: top;\n",
       "    }\n",
       "\n",
       "    .dataframe thead th {\n",
       "        text-align: right;\n",
       "    }\n",
       "</style>\n",
       "<table border=\"1\" class=\"dataframe\">\n",
       "  <thead>\n",
       "    <tr style=\"text-align: right;\">\n",
       "      <th></th>\n",
       "      <th>Nama</th>\n",
       "      <th>Bahan</th>\n",
       "      <th>Step</th>\n",
       "      <th>Unnamed: 3</th>\n",
       "      <th>Unnamed: 4</th>\n",
       "    </tr>\n",
       "  </thead>\n",
       "  <tbody>\n",
       "    <tr>\n",
       "      <th>0</th>\n",
       "      <td>Baling-baling Plastik</td>\n",
       "      <td>2 botol plastik bekas, 4 tutup botol, 1 sedotan</td>\n",
       "      <td>1. Potong botol menjadi bentuk baling-baling -...</td>\n",
       "      <td>NaN</td>\n",
       "      <td>karan</td>\n",
       "    </tr>\n",
       "    <tr>\n",
       "      <th>1</th>\n",
       "      <td>Dompet Kain</td>\n",
       "      <td>1 kain flanel bekas, benang, 1 kancing</td>\n",
       "      <td>1. Potong kain flanel bentuk dompet - 2. Jahit...</td>\n",
       "      <td>NaN</td>\n",
       "      <td>NaN</td>\n",
       "    </tr>\n",
       "    <tr>\n",
       "      <th>2</th>\n",
       "      <td>Lampu Hias</td>\n",
       "      <td>1 botol kaca bekas, tali rafia, 1 set lampu LED</td>\n",
       "      <td>1. Bersihkan botol kaca dengan sabun - 2. Lili...</td>\n",
       "      <td>NaN</td>\n",
       "      <td>NaN</td>\n",
       "    </tr>\n",
       "    <tr>\n",
       "      <th>3</th>\n",
       "      <td>Kotak Pensil</td>\n",
       "      <td>1 kotak susu bekas, gunting, stiker</td>\n",
       "      <td>1. Potong kotak susu menjadi bentuk kotak pens...</td>\n",
       "      <td>NaN</td>\n",
       "      <td>NaN</td>\n",
       "    </tr>\n",
       "    <tr>\n",
       "      <th>4</th>\n",
       "      <td>Bingkai Foto</td>\n",
       "      <td>1 karton bekas, penggaris, 1 lem stik</td>\n",
       "      <td>1. Gunakan penggaris untuk mengukur dan memoto...</td>\n",
       "      <td>NaN</td>\n",
       "      <td>NaN</td>\n",
       "    </tr>\n",
       "  </tbody>\n",
       "</table>\n",
       "</div>"
      ],
      "text/plain": [
       "                    Nama                                            Bahan  \\\n",
       "0  Baling-baling Plastik  2 botol plastik bekas, 4 tutup botol, 1 sedotan   \n",
       "1            Dompet Kain           1 kain flanel bekas, benang, 1 kancing   \n",
       "2             Lampu Hias  1 botol kaca bekas, tali rafia, 1 set lampu LED   \n",
       "3           Kotak Pensil              1 kotak susu bekas, gunting, stiker   \n",
       "4           Bingkai Foto            1 karton bekas, penggaris, 1 lem stik   \n",
       "\n",
       "                                                Step  Unnamed: 3 Unnamed: 4  \n",
       "0  1. Potong botol menjadi bentuk baling-baling -...         NaN      karan  \n",
       "1  1. Potong kain flanel bentuk dompet - 2. Jahit...         NaN        NaN  \n",
       "2  1. Bersihkan botol kaca dengan sabun - 2. Lili...         NaN        NaN  \n",
       "3  1. Potong kotak susu menjadi bentuk kotak pens...         NaN        NaN  \n",
       "4  1. Gunakan penggaris untuk mengukur dan memoto...         NaN        NaN  "
      ]
     },
     "execution_count": 10,
     "metadata": {},
     "output_type": "execute_result"
    }
   ],
   "source": [
    "df.head()"
   ]
  },
  {
   "cell_type": "code",
   "execution_count": 20,
   "metadata": {},
   "outputs": [
    {
     "ename": "KeyError",
     "evalue": "\"['', ''] not found in axis\"",
     "output_type": "error",
     "traceback": [
      "\u001b[1;31m---------------------------------------------------------------------------\u001b[0m",
      "\u001b[1;31mKeyError\u001b[0m                                  Traceback (most recent call last)",
      "\u001b[1;32md:\\kb\\kreate\\build\\data.ipynb Cell 4\u001b[0m line \u001b[0;36m5\n\u001b[0;32m      <a href='vscode-notebook-cell:/d%3A/kb/kreate/build/data.ipynb#W2sZmlsZQ%3D%3D?line=2'>3</a>\u001b[0m \u001b[39m# Membaca data dari file CSV dengan tanda koma sebagai delimiter\u001b[39;00m\n\u001b[0;32m      <a href='vscode-notebook-cell:/d%3A/kb/kreate/build/data.ipynb#W2sZmlsZQ%3D%3D?line=3'>4</a>\u001b[0m df_sampah \u001b[39m=\u001b[39m pd\u001b[39m.\u001b[39mread_csv(\u001b[39m'\u001b[39m\u001b[39mD:\u001b[39m\u001b[39m\\\u001b[39m\u001b[39mkb\u001b[39m\u001b[39m\\\u001b[39m\u001b[39mDatasetSAMPAH.csv\u001b[39m\u001b[39m'\u001b[39m, delimiter\u001b[39m=\u001b[39m\u001b[39m'\u001b[39m\u001b[39m;\u001b[39m\u001b[39m'\u001b[39m)\n\u001b[1;32m----> <a href='vscode-notebook-cell:/d%3A/kb/kreate/build/data.ipynb#W2sZmlsZQ%3D%3D?line=4'>5</a>\u001b[0m df_sampah \u001b[39m=\u001b[39m df_sampah\u001b[39m.\u001b[39;49mdrop([\u001b[39m'\u001b[39;49m\u001b[39m'\u001b[39;49m, \u001b[39m'\u001b[39;49m\u001b[39m'\u001b[39;49m], axis\u001b[39m=\u001b[39;49m\u001b[39m1\u001b[39;49m)\n\u001b[0;32m      <a href='vscode-notebook-cell:/d%3A/kb/kreate/build/data.ipynb#W2sZmlsZQ%3D%3D?line=6'>7</a>\u001b[0m \u001b[39mdef\u001b[39;00m \u001b[39mcari_kreasi_sampah\u001b[39m(bahan_list):\n\u001b[0;32m      <a href='vscode-notebook-cell:/d%3A/kb/kreate/build/data.ipynb#W2sZmlsZQ%3D%3D?line=7'>8</a>\u001b[0m     \u001b[39m# Mencari resep yang persis memenuhi bahan yang dimasukkan oleh pengguna\u001b[39;00m\n\u001b[0;32m      <a href='vscode-notebook-cell:/d%3A/kb/kreate/build/data.ipynb#W2sZmlsZQ%3D%3D?line=8'>9</a>\u001b[0m     hasil_pencarian \u001b[39m=\u001b[39m df_sampah\u001b[39m.\u001b[39mcopy()\n",
      "File \u001b[1;32mc:\\Users\\User\\AppData\\Local\\Programs\\Python\\Python311\\Lib\\site-packages\\pandas\\util\\_decorators.py:331\u001b[0m, in \u001b[0;36mdeprecate_nonkeyword_arguments.<locals>.decorate.<locals>.wrapper\u001b[1;34m(*args, **kwargs)\u001b[0m\n\u001b[0;32m    325\u001b[0m \u001b[39mif\u001b[39;00m \u001b[39mlen\u001b[39m(args) \u001b[39m>\u001b[39m num_allow_args:\n\u001b[0;32m    326\u001b[0m     warnings\u001b[39m.\u001b[39mwarn(\n\u001b[0;32m    327\u001b[0m         msg\u001b[39m.\u001b[39mformat(arguments\u001b[39m=\u001b[39m_format_argument_list(allow_args)),\n\u001b[0;32m    328\u001b[0m         \u001b[39mFutureWarning\u001b[39;00m,\n\u001b[0;32m    329\u001b[0m         stacklevel\u001b[39m=\u001b[39mfind_stack_level(),\n\u001b[0;32m    330\u001b[0m     )\n\u001b[1;32m--> 331\u001b[0m \u001b[39mreturn\u001b[39;00m func(\u001b[39m*\u001b[39;49margs, \u001b[39m*\u001b[39;49m\u001b[39m*\u001b[39;49mkwargs)\n",
      "File \u001b[1;32mc:\\Users\\User\\AppData\\Local\\Programs\\Python\\Python311\\Lib\\site-packages\\pandas\\core\\frame.py:5399\u001b[0m, in \u001b[0;36mDataFrame.drop\u001b[1;34m(self, labels, axis, index, columns, level, inplace, errors)\u001b[0m\n\u001b[0;32m   5251\u001b[0m \u001b[39m@deprecate_nonkeyword_arguments\u001b[39m(version\u001b[39m=\u001b[39m\u001b[39mNone\u001b[39;00m, allowed_args\u001b[39m=\u001b[39m[\u001b[39m\"\u001b[39m\u001b[39mself\u001b[39m\u001b[39m\"\u001b[39m, \u001b[39m\"\u001b[39m\u001b[39mlabels\u001b[39m\u001b[39m\"\u001b[39m])\n\u001b[0;32m   5252\u001b[0m \u001b[39mdef\u001b[39;00m \u001b[39mdrop\u001b[39m(  \u001b[39m# type: ignore[override]\u001b[39;00m\n\u001b[0;32m   5253\u001b[0m     \u001b[39mself\u001b[39m,\n\u001b[1;32m   (...)\u001b[0m\n\u001b[0;32m   5260\u001b[0m     errors: IgnoreRaise \u001b[39m=\u001b[39m \u001b[39m\"\u001b[39m\u001b[39mraise\u001b[39m\u001b[39m\"\u001b[39m,\n\u001b[0;32m   5261\u001b[0m ) \u001b[39m-\u001b[39m\u001b[39m>\u001b[39m DataFrame \u001b[39m|\u001b[39m \u001b[39mNone\u001b[39;00m:\n\u001b[0;32m   5262\u001b[0m \u001b[39m    \u001b[39m\u001b[39m\"\"\"\u001b[39;00m\n\u001b[0;32m   5263\u001b[0m \u001b[39m    Drop specified labels from rows or columns.\u001b[39;00m\n\u001b[0;32m   5264\u001b[0m \n\u001b[1;32m   (...)\u001b[0m\n\u001b[0;32m   5397\u001b[0m \u001b[39m            weight  1.0     0.8\u001b[39;00m\n\u001b[0;32m   5398\u001b[0m \u001b[39m    \"\"\"\u001b[39;00m\n\u001b[1;32m-> 5399\u001b[0m     \u001b[39mreturn\u001b[39;00m \u001b[39msuper\u001b[39;49m()\u001b[39m.\u001b[39;49mdrop(\n\u001b[0;32m   5400\u001b[0m         labels\u001b[39m=\u001b[39;49mlabels,\n\u001b[0;32m   5401\u001b[0m         axis\u001b[39m=\u001b[39;49maxis,\n\u001b[0;32m   5402\u001b[0m         index\u001b[39m=\u001b[39;49mindex,\n\u001b[0;32m   5403\u001b[0m         columns\u001b[39m=\u001b[39;49mcolumns,\n\u001b[0;32m   5404\u001b[0m         level\u001b[39m=\u001b[39;49mlevel,\n\u001b[0;32m   5405\u001b[0m         inplace\u001b[39m=\u001b[39;49minplace,\n\u001b[0;32m   5406\u001b[0m         errors\u001b[39m=\u001b[39;49merrors,\n\u001b[0;32m   5407\u001b[0m     )\n",
      "File \u001b[1;32mc:\\Users\\User\\AppData\\Local\\Programs\\Python\\Python311\\Lib\\site-packages\\pandas\\util\\_decorators.py:331\u001b[0m, in \u001b[0;36mdeprecate_nonkeyword_arguments.<locals>.decorate.<locals>.wrapper\u001b[1;34m(*args, **kwargs)\u001b[0m\n\u001b[0;32m    325\u001b[0m \u001b[39mif\u001b[39;00m \u001b[39mlen\u001b[39m(args) \u001b[39m>\u001b[39m num_allow_args:\n\u001b[0;32m    326\u001b[0m     warnings\u001b[39m.\u001b[39mwarn(\n\u001b[0;32m    327\u001b[0m         msg\u001b[39m.\u001b[39mformat(arguments\u001b[39m=\u001b[39m_format_argument_list(allow_args)),\n\u001b[0;32m    328\u001b[0m         \u001b[39mFutureWarning\u001b[39;00m,\n\u001b[0;32m    329\u001b[0m         stacklevel\u001b[39m=\u001b[39mfind_stack_level(),\n\u001b[0;32m    330\u001b[0m     )\n\u001b[1;32m--> 331\u001b[0m \u001b[39mreturn\u001b[39;00m func(\u001b[39m*\u001b[39;49margs, \u001b[39m*\u001b[39;49m\u001b[39m*\u001b[39;49mkwargs)\n",
      "File \u001b[1;32mc:\\Users\\User\\AppData\\Local\\Programs\\Python\\Python311\\Lib\\site-packages\\pandas\\core\\generic.py:4505\u001b[0m, in \u001b[0;36mNDFrame.drop\u001b[1;34m(self, labels, axis, index, columns, level, inplace, errors)\u001b[0m\n\u001b[0;32m   4503\u001b[0m \u001b[39mfor\u001b[39;00m axis, labels \u001b[39min\u001b[39;00m axes\u001b[39m.\u001b[39mitems():\n\u001b[0;32m   4504\u001b[0m     \u001b[39mif\u001b[39;00m labels \u001b[39mis\u001b[39;00m \u001b[39mnot\u001b[39;00m \u001b[39mNone\u001b[39;00m:\n\u001b[1;32m-> 4505\u001b[0m         obj \u001b[39m=\u001b[39m obj\u001b[39m.\u001b[39;49m_drop_axis(labels, axis, level\u001b[39m=\u001b[39;49mlevel, errors\u001b[39m=\u001b[39;49merrors)\n\u001b[0;32m   4507\u001b[0m \u001b[39mif\u001b[39;00m inplace:\n\u001b[0;32m   4508\u001b[0m     \u001b[39mself\u001b[39m\u001b[39m.\u001b[39m_update_inplace(obj)\n",
      "File \u001b[1;32mc:\\Users\\User\\AppData\\Local\\Programs\\Python\\Python311\\Lib\\site-packages\\pandas\\core\\generic.py:4546\u001b[0m, in \u001b[0;36mNDFrame._drop_axis\u001b[1;34m(self, labels, axis, level, errors, only_slice)\u001b[0m\n\u001b[0;32m   4544\u001b[0m         new_axis \u001b[39m=\u001b[39m axis\u001b[39m.\u001b[39mdrop(labels, level\u001b[39m=\u001b[39mlevel, errors\u001b[39m=\u001b[39merrors)\n\u001b[0;32m   4545\u001b[0m     \u001b[39melse\u001b[39;00m:\n\u001b[1;32m-> 4546\u001b[0m         new_axis \u001b[39m=\u001b[39m axis\u001b[39m.\u001b[39;49mdrop(labels, errors\u001b[39m=\u001b[39;49merrors)\n\u001b[0;32m   4547\u001b[0m     indexer \u001b[39m=\u001b[39m axis\u001b[39m.\u001b[39mget_indexer(new_axis)\n\u001b[0;32m   4549\u001b[0m \u001b[39m# Case for non-unique axis\u001b[39;00m\n\u001b[0;32m   4550\u001b[0m \u001b[39melse\u001b[39;00m:\n",
      "File \u001b[1;32mc:\\Users\\User\\AppData\\Local\\Programs\\Python\\Python311\\Lib\\site-packages\\pandas\\core\\indexes\\base.py:6934\u001b[0m, in \u001b[0;36mIndex.drop\u001b[1;34m(self, labels, errors)\u001b[0m\n\u001b[0;32m   6932\u001b[0m \u001b[39mif\u001b[39;00m mask\u001b[39m.\u001b[39many():\n\u001b[0;32m   6933\u001b[0m     \u001b[39mif\u001b[39;00m errors \u001b[39m!=\u001b[39m \u001b[39m\"\u001b[39m\u001b[39mignore\u001b[39m\u001b[39m\"\u001b[39m:\n\u001b[1;32m-> 6934\u001b[0m         \u001b[39mraise\u001b[39;00m \u001b[39mKeyError\u001b[39;00m(\u001b[39mf\u001b[39m\u001b[39m\"\u001b[39m\u001b[39m{\u001b[39;00m\u001b[39mlist\u001b[39m(labels[mask])\u001b[39m}\u001b[39;00m\u001b[39m not found in axis\u001b[39m\u001b[39m\"\u001b[39m)\n\u001b[0;32m   6935\u001b[0m     indexer \u001b[39m=\u001b[39m indexer[\u001b[39m~\u001b[39mmask]\n\u001b[0;32m   6936\u001b[0m \u001b[39mreturn\u001b[39;00m \u001b[39mself\u001b[39m\u001b[39m.\u001b[39mdelete(indexer)\n",
      "\u001b[1;31mKeyError\u001b[0m: \"['', ''] not found in axis\""
     ]
    }
   ],
   "source": [
    "import pandas as pd\n",
    "\n",
    "# Membaca data dari file CSV dengan tanda koma sebagai delimiter\n",
    "df_sampah = pd.read_csv('D:\\kb\\DatasetSAMPAH.csv', delimiter=';')\n",
    "df_sampah = df_sampah.drop(['', ''], axis=1)\n",
    "\n",
    "def cari_kreasi_sampah(bahan_list):\n",
    "    # Mencari resep yang persis memenuhi bahan yang dimasukkan oleh pengguna\n",
    "    hasil_pencarian = df_sampah.copy()\n",
    "    for bahan in bahan_list:\n",
    "        hasil_pencarian = hasil_pencarian[hasil_pencarian['Bahan'].str.contains(bahan, case=False, na=False, regex=False)]\n",
    "\n",
    "    # Menampilkan ide kreatif untuk gabungan bahan\n",
    "    if not hasil_pencarian.empty:\n",
    "        print(f\"Ide kreatif untuk {', '.join(bahan_list)}:\")\n",
    "        for index, row in hasil_pencarian.iterrows():\n",
    "            print(f\"Nama: {row['Nama']}\")\n",
    "            print(f\"Bahan: {row['Bahan']}\")\n",
    "            print(\"Steps:\")\n",
    "            steps_list = row['Steps'].split(' - ')\n",
    "            for i, step in enumerate(steps_list, start=1):\n",
    "                print(f\"{i}. {step}\")\n",
    "            print(\"------------------------\")\n",
    "    else:\n",
    "        print(f\"Tidak ditemukan resep untuk gabungan bahan: {', '.join(bahan_list)}\")\n",
    "\n",
    "# Loop untuk memasukkan sampah berulang-ulang\n",
    "while True:\n",
    "    input_bahan = input(\"Masukkan bahan (selesai untuk mengakhiri): \")\n",
    "    \n",
    "    # Keluar dari loop jika pengguna memasukkan \"selesai\"\n",
    "    if input_bahan.lower() == 'selesai':\n",
    "        break\n",
    "    \n",
    "    # Mencari ide kreatif berdasarkan input pengguna\n",
    "    bahan_list = [bahan.strip() for bahan in input_bahan.split(',')]  # Menghilangkan spasi ekstra\n",
    "    cari_kreasi_sampah(bahan_list)"
   ]
  },
  {
   "cell_type": "code",
   "execution_count": 29,
   "metadata": {},
   "outputs": [
    {
     "name": "stdout",
     "output_type": "stream",
     "text": [
      "Index(['Nama', 'Bahan', 'Step', 'Unnamed: 3', 'Unnamed: 4'], dtype='object')\n",
      "Steps untuk kreasi berdasarkan bahan:\n",
      "Baling-baling Plastik: \n",
      "Lampu Hias: \n",
      "Lampu gantung berbahan botol plastik: \n",
      "Lampu nanas dari sendok plastik: \n",
      "Vas bunga berbahan dasar plastik: \n",
      "Steps untuk kreasi berdasarkan bahan:\n",
      "Baling-baling Plastik: \n",
      "Lampu gantung berbahan botol plastik: \n",
      "Lampu nanas dari sendok plastik: \n",
      "Vas bunga berbahan dasar plastik: \n"
     ]
    }
   ],
   "source": [
    "import pandas as pd\n",
    "\n",
    "# Membaca data dari file CSV dengan tanda koma sebagai delimiter\n",
    "df_sampah = pd.read_csv('D:\\kb\\DatasetSAMPAH.csv', delimiter=',')\n",
    "\n",
    "# Print column names\n",
    "print(df_sampah.columns)\n",
    "\n",
    "def cari_kreasi_sampah(bahan_list):\n",
    "    hasil_pencarian = df_sampah.copy()\n",
    "    for bahan in bahan_list:\n",
    "        hasil_pencarian = hasil_pencarian[hasil_pencarian['Bahan'].str.contains(bahan, case=False, na=False, regex=False)]\n",
    "\n",
    "    if not hasil_pencarian.empty:\n",
    "        print(\"Steps untuk kreasi berdasarkan bahan:\")\n",
    "        for _, row in hasil_pencarian.iterrows():\n",
    "            steps = row.get('Step', '').strip()\n",
    "            if steps:\n",
    "                print(f\"{row['Nama']}: {steps}\")\n",
    "\n",
    "    else:\n",
    "        print(f\"Tidak ditemukan kreasi untuk bahan: {', '.join(bahan_list)}\")\n",
    "\n",
    "# Loop untuk memasukkan sampah berulang-ulang\n",
    "while True:\n",
    "    input_bahan = input(\"Masukkan bahan (selesai untuk mengakhiri): \")\n",
    "    \n",
    "    # Keluar dari loop jika pengguna memasukkan \"selesai\"\n",
    "    if input_bahan.lower() == 'selesai':\n",
    "        break\n",
    "    \n",
    "    # Mencari ide kreatif berdasarkan input pengguna\n",
    "    bahan_list = [bahan.strip() for bahan in input_bahan.split(',')]\n",
    "    cari_kreasi_sampah(bahan_list)\n"
   ]
  }
 ],
 "metadata": {
  "kernelspec": {
   "display_name": "Python 3",
   "language": "python",
   "name": "python3"
  },
  "language_info": {
   "codemirror_mode": {
    "name": "ipython",
    "version": 3
   },
   "file_extension": ".py",
   "mimetype": "text/x-python",
   "name": "python",
   "nbconvert_exporter": "python",
   "pygments_lexer": "ipython3",
   "version": "3.11.2"
  }
 },
 "nbformat": 4,
 "nbformat_minor": 2
}
